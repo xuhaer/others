{
 "cells": [
  {
   "cell_type": "code",
   "execution_count": 1,
   "metadata": {},
   "outputs": [],
   "source": [
    "import re\n",
    "import glob\n",
    "import time\n",
    "\n",
    "import tempfile\n",
    "\n",
    "import numpy as np\n",
    "import cv2\n",
    "import pytesseract\n",
    "from pdf2image import convert_from_path\n",
    "from PIL import Image"
   ]
  },
  {
   "cell_type": "code",
   "execution_count": 2,
   "metadata": {},
   "outputs": [],
   "source": [
    "path = '/Users/har/Downloads/test/'\n",
    "\n",
    "path1 = path + '1.png'\n",
    "\n",
    "im1 = Image.open(path1)"
   ]
  },
  {
   "cell_type": "code",
   "execution_count": 3,
   "metadata": {},
   "outputs": [],
   "source": [
    "def foo(im, lang='chi_sim+eng'):\n",
    "    return pytesseract.image_to_string(im, lang=lang)"
   ]
  },
  {
   "cell_type": "code",
   "execution_count": 4,
   "metadata": {},
   "outputs": [
    {
     "data": {
      "text/plain": [
       "'纹 尾 斜 鳞 蛇 指 名 亚 种 Pseudoxenodon srejegeri stejnegefi Barbour, 1908\\n灰 鼠 蛇 Pyas korros (Schlegel, 1837) nn\\n\\n \\n\\n \\n\\n滑 鼠 蛇 Pyas mucosus (Linnaeus, 1758) 0\\n海 南 颈 果蛇 RRaBdophis adleri Zhao, 1997 0 eees\\n喜 山 颈 槽 蛇 Rhabdophis Ainmalayanus (Giinther, 1864) …'"
      ]
     },
     "execution_count": 4,
     "metadata": {},
     "output_type": "execute_result"
    }
   ],
   "source": [
    "b = foo(path+'1.png')\n",
    "b"
   ]
  },
  {
   "cell_type": "code",
   "execution_count": 5,
   "metadata": {},
   "outputs": [
    {
     "data": {
      "text/plain": [
       "'纹 尾 斜 鳞 蛇 指 名 亚 种 Pseudoxenodon srejegeri stejnegefi Barbour, 1908\\n灰 鼠 蛇 Pyas korros (Schlegel, 1837) nn\\n\\n \\n\\n \\n\\n滑 鼠 蛇 Pyas mucosus (Linnaeus, 1758) 0\\n海 南 颈 果蛇 RRaBdophis adleri Zhao, 1997 0 eees\\n喜 山 颈 槽 蛇 Rhabdophis Ainmalayanus (Giinther, 1864) …'"
      ]
     },
     "execution_count": 5,
     "metadata": {},
     "output_type": "execute_result"
    }
   ],
   "source": [
    "a = foo(path+'1.png', lang='chi_sim+eng+1test')\n",
    "a"
   ]
  },
  {
   "cell_type": "code",
   "execution_count": 6,
   "metadata": {},
   "outputs": [
    {
     "data": {
      "text/plain": [
       "'纹 尾 斜 鳞 蛇 指 名 亚 种 Pseudoxenodon srejegeri stejnegefi Barbour, 1908\\n灰 鼠 蛇 Pyas korros (Schlegel, 1837) nn\\n\\n \\n\\n \\n\\n滑 鼠 蛇 Pyas mucosus (Linnaeus, 1758) 0\\n海 南 颈 果蛇 RRaBdophis adleri Zhao, 1997 0 eees\\n喜 山 颈 槽 蛇 Rhabdophis Ainmalayanus (Giinther, 1864) …'"
      ]
     },
     "execution_count": 6,
     "metadata": {},
     "output_type": "execute_result"
    }
   ],
   "source": [
    "c = foo(path+'1.png', lang='chi_sim+1test+eng')\n",
    "c"
   ]
  },
  {
   "cell_type": "code",
   "execution_count": 7,
   "metadata": {},
   "outputs": [
    {
     "data": {
      "text/plain": [
       "True"
      ]
     },
     "execution_count": 7,
     "metadata": {},
     "output_type": "execute_result"
    }
   ],
   "source": [
    "b == c == b"
   ]
  },
  {
   "cell_type": "code",
   "execution_count": 8,
   "metadata": {},
   "outputs": [
    {
     "data": {
      "text/plain": [
       "'灰鼠鼠鼠蛇蛇鼠8蛇蛇Pscaaososoaoosrcyaegerrsroyoogcr8lSsh.hchr,le()S\\n灰鼠蛇Pryaskorros(Schlegel,1837)\\n\\n \\n\\n \\n\\n鼠鼠蛇Pryasroacosas(l,,looaehg,1738)\\n蛇鼠鼠鼠蛇kkahaogahsaagg鼠gh蛇,,gg7..h.,,,,.,...,...,....,,.,,,,,.,,,,.,,.,\\n鼠蛇鼠鼠蛇kkahaogsks,sks,olarayaaas((lhhcher,188)'"
      ]
     },
     "execution_count": 8,
     "metadata": {},
     "output_type": "execute_result"
    }
   ],
   "source": [
    "foo(path+'1.png', lang='1test+eng')"
   ]
  },
  {
   "cell_type": "code",
   "execution_count": null,
   "metadata": {},
   "outputs": [],
   "source": []
  }
 ],
 "metadata": {
  "kernelspec": {
   "display_name": "data_analysis",
   "language": "python",
   "name": "data_analysis"
  },
  "language_info": {
   "codemirror_mode": {
    "name": "ipython",
    "version": 3
   },
   "file_extension": ".py",
   "mimetype": "text/x-python",
   "name": "python",
   "nbconvert_exporter": "python",
   "pygments_lexer": "ipython3",
   "version": "3.7.1"
  }
 },
 "nbformat": 4,
 "nbformat_minor": 2
}
