{
 "cells": [
  {
   "cell_type": "code",
   "execution_count": 1,
   "metadata": {},
   "outputs": [],
   "source": [
    "import re\n",
    "import glob\n",
    "import time\n",
    "import asyncio\n",
    "from concurrent.futures import ThreadPoolExecutor\n",
    "from threading import Thread\n",
    "from multiprocessing import Pool\n",
    "\n",
    "import pytesseract\n",
    "from PIL import Image"
   ]
  },
  {
   "cell_type": "code",
   "execution_count": 2,
   "metadata": {},
   "outputs": [],
   "source": [
    "im_paths = glob.glob( './datasets/test_pdf_imgs/*.png')\n",
    "\n",
    "\n",
    "def time_it(func):\n",
    "    \n",
    "    def wrapper():\n",
    "        start_ = time.time()\n",
    "        res = func()\n",
    "        print(f'{func.__name__} 耗时{time.time() - start_ }秒')\n",
    "        return res\n",
    "    return wrapper\n",
    "\n",
    "\n",
    "def img_2_text(im_path, lang='chi_sim+eng'):\n",
    "    page = int(re.findall(r'第(\\d+)页', im_path)[0])\n",
    "    im = Image.open(im_path)\n",
    "    text =  pytesseract.image_to_string(im, lang=lang)\n",
    "    with open(f'./datasets/test_pdf_imgs/第{page}页.txt', 'w') as f:\n",
    "        f.write(''.join(text.split(' ')))"
   ]
  },
  {
   "cell_type": "markdown",
   "metadata": {},
   "source": [
    "## 普通版"
   ]
  },
  {
   "cell_type": "code",
   "execution_count": 3,
   "metadata": {},
   "outputs": [
    {
     "name": "stdout",
     "output_type": "stream",
     "text": [
      "common_version 耗时71.91380310058594秒\n"
     ]
    }
   ],
   "source": [
    "@time_it\n",
    "def common_version():\n",
    "    for im_path in im_paths:\n",
    "        img_2_text(im_path)\n",
    "\n",
    "common_version()"
   ]
  },
  {
   "cell_type": "markdown",
   "metadata": {},
   "source": [
    "## 多线程版"
   ]
  },
  {
   "cell_type": "code",
   "execution_count": 4,
   "metadata": {},
   "outputs": [
    {
     "name": "stdout",
     "output_type": "stream",
     "text": [
      "theading_version 耗时35.4434289932251秒\n"
     ]
    }
   ],
   "source": [
    "@time_it\n",
    "def theading_version():\n",
    "    with ThreadPoolExecutor(4) as executor:\n",
    "        executor.map(img_2_text, im_paths)\n",
    "\n",
    "theading_version()"
   ]
  },
  {
   "cell_type": "markdown",
   "metadata": {},
   "source": [
    "## 协程版\n",
    "`pip install ipython ipykernel --upgrade` fix `RuntimeError: asyncio.run() cannot be called from a running event loop`"
   ]
  },
  {
   "cell_type": "code",
   "execution_count": 5,
   "metadata": {},
   "outputs": [],
   "source": [
    "# 可能哪弄错了，不理想"
   ]
  },
  {
   "cell_type": "markdown",
   "metadata": {},
   "source": [
    "## 多进程版"
   ]
  },
  {
   "cell_type": "code",
   "execution_count": 6,
   "metadata": {},
   "outputs": [
    {
     "name": "stdout",
     "output_type": "stream",
     "text": [
      "process_version 耗时34.12662601470947秒\n"
     ]
    }
   ],
   "source": [
    "@time_it\n",
    "def process_version():\n",
    "    pool = Pool(4)\n",
    "    pool.map(img_2_text, im_paths)\n",
    "\n",
    "process_version()"
   ]
  },
  {
   "cell_type": "markdown",
   "metadata": {},
   "source": [
    "不应该啊，pytesseract.image_to_string应该是个 CPU 密集型啊"
   ]
  },
  {
   "cell_type": "code",
   "execution_count": null,
   "metadata": {},
   "outputs": [],
   "source": []
  }
 ],
 "metadata": {
  "kernelspec": {
   "display_name": "data_analysis",
   "language": "python",
   "name": "data_analysis"
  },
  "language_info": {
   "codemirror_mode": {
    "name": "ipython",
    "version": 3
   },
   "file_extension": ".py",
   "mimetype": "text/x-python",
   "name": "python",
   "nbconvert_exporter": "python",
   "pygments_lexer": "ipython3",
   "version": "3.7.1"
  }
 },
 "nbformat": 4,
 "nbformat_minor": 2
}
