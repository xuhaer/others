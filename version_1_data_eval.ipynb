{
 "cells": [
  {
   "cell_type": "code",
   "execution_count": 1,
   "metadata": {},
   "outputs": [],
   "source": [
    "import json\n",
    "\n",
    "from collections import Counter\n",
    "from io import StringIO\n",
    "\n",
    "import jieba\n",
    "import numpy as np\n",
    "import pandas as pd"
   ]
  },
  {
   "cell_type": "code",
   "execution_count": 2,
   "metadata": {},
   "outputs": [],
   "source": [
    "def evaluation_origin_data(origin_data, output_='origin_data_evaluation_res.xls', describe_=['count', 'mean', 'std', 'min', 'max']):\n",
    "    \"\"\"\n",
    "    数据源与格式评价\n",
    "    origin_data: pd.DataFrame\n",
    "    output_     : output url: numeric columns describe data\n",
    "    describe_  : pd.describe params\n",
    "    \"\"\"\n",
    "    results = {}\n",
    "    origin_dtpyes = dict(origin_data.get_dtype_counts())\n",
    "    i = 0\n",
    "    for _type, _count in origin_dtpyes.items():\n",
    "        print(f'该数据源有 {_count} 列类型为 {_type} 的数据\\n')\n",
    "        results['数据类型'] = {}\n",
    "        if _type != 'int64' and _type != 'float64':\n",
    "            non_numeric_cols = origin_data.select_dtypes(include=[_type]).columns\n",
    "            print(f'该数据源中 {list(non_numeric_cols)} 列的数据为{_type}类型, 其中以下列的数据为混合类型，详情如下: \\n')\n",
    "            \n",
    "            for _col in list(non_numeric_cols):\n",
    "                ct = Counter(origin_data[_col].map(lambda x: str(type(x))))\n",
    "                if len(ct) != 1:\n",
    "                    i += 1\n",
    "                    print('    {} 列共{}种类型的数据,具体为：{}'.format(_col, len(ct), str({_dtype: ct[_dtype] for _dtype in ct})))\n",
    "    if describe_:\n",
    "        try:\n",
    "            check_a.select_dtypes(include=['number']).describe().loc[describe_].to_excel(output_, float_format='%.2f')\n",
    "        except KeyError as e:\n",
    "            check_a.select_dtypes(include=['number']).describe().to_excel(output_, float_format='%.2f')\n",
    "            print(f'\\n输入describe_参数有误，已使用默认值写入文件\\n')\n",
    "    print(f'\\n数值类型的汇总已经输出到文件origin_data_evaluation_res.xls\\n')\n",
    "    print(f'初步估计，该数据源的数据规整度为：{1 - i /origin_data.columns.size:.3f} \\n\\n')    \n",
    "\n"
   ]
  },
  {
   "cell_type": "code",
   "execution_count": 3,
   "metadata": {},
   "outputs": [],
   "source": [
    "def data_to_db_check(cleaned_data, s_t, in_list=[]):\n",
    "    \"\"\"若数据源的数据名在prc中有对应值，进行数据值是否为合法数据的评价\"\"\"\n",
    "    legal_cols = {}\n",
    "    for col in in_list:\n",
    "        the_row = s_t[s_t['nameChs'] == col].loc[:, ['sampleTypeId', 'name', 'nameChs', 'nameChsAlts', 'dataType', \n",
    "                                                                              'allowedDataRange', 'defaultRefRange']].to_dict(orient='records')\n",
    "        if the_row:\n",
    "            the_range = json.loads(the_row[0]['allowedDataRange'])\n",
    "            the_data_type = the_row[0]['dataType']\n",
    "            if not isinstance(the_range, dict):\n",
    "                continue\n",
    "            if the_data_type in ['float', 'int']:\n",
    "                for k, v in the_range.items():\n",
    "                    legal_vals = v.split('~')\n",
    "                    try:\n",
    "                        if cleaned_data[col].min() < float(legal_vals[0]) or cleaned_data[col].max() > float(legal_vals[1]):\n",
    "                            # allowedDataRange可能有多个候选项\n",
    "                            if not col in legal_cols:\n",
    "                                print(f'{col} 列的值可能不合法，允许值范围为：{v}, 而源数据值范围为{check_a[col].min()} ~ {check_a[col].max()}')\n",
    "                        else:\n",
    "                            # 满足 allowedDataRange的范围\n",
    "                            legal_cols[col] = f'可能单位为:{k}'\n",
    "                    except ValueError as e:\n",
    "                        print(f'\\n {col} 列: {e}!\\n')\n",
    "            elif the_data_type == 'text':\n",
    "                if any(v not in set(cleaned_data[col]) for v in the_range):\n",
    "                    print(f'{col} 列的值可能不合法，允许值为：{the_range}')\n",
    "    print(f'以下列的数据均为合法数据:\\n{legal_cols}')\n",
    "    print('---------------------------------------------------------------------------------------')"
   ]
  },
  {
   "cell_type": "code",
   "execution_count": 4,
   "metadata": {},
   "outputs": [],
   "source": [
    "def evaluation_origin_columns_name(origin_data):\n",
    "    \"\"\"\n",
    "    数据名标准化评价:\n",
    "        若数据源的某column直接在prc-SampleType中存在，则判定为数据源中的某数据名(列名)在prc中存在；\n",
    "        否则使用结巴分词并配以自定义词库对数据源的该列(column)进行分词，分词后的任意短语若在prc-SampleType中存在，则判定为相似；\n",
    "        不然判定为无任何相关性\n",
    "    最后可依据源数据中无相关性的列来配置分词自定义字典，以达到更好的评估效果。\n",
    "    \"\"\"\n",
    "    print('---------------------------------------------------------------------------------------')\n",
    "    print('数据名标准化评价: ')\n",
    "    s_t = pd.read_csv('/Users/har/Desktop/T_SampleType_201811121655.csv')\n",
    "    s_t_set = set(s_t.to_string(columns=['name', 'nameChs', 'nameChsAlts'], header=False, index=False, na_rep='').split())\n",
    "    i_, s_, in_list, similar_list, unrelated_list = 0, 0, [], [], []\n",
    "\n",
    "    for col in origin_data.columns:\n",
    "            if col in s_t_set:\n",
    "                i_ +=1\n",
    "                in_list.append(col)\n",
    "            elif any(x in ','.join(s_t_set) for x in jieba.cut(col)): \n",
    "                s_ +=1\n",
    "                similar_list.append(col)\n",
    "            else: unrelated_list.append(col)\n",
    "    print(f'    源数据中约有{i_ / len(origin_data.columns) * 100: .2f}%的数据名(列名)在prc中存在:')\n",
    "    print('        ', in_list,'\\n')\n",
    "    print(f'    源数据中约有{s_ / len(origin_data.columns) * 100: .2f}%的数据名(列名)与prc中的数据名(列名)相似:')\n",
    "    print('        ', similar_list, '\\n')\n",
    "    print(f'    源数据中约有{(1 - (i_ + s_) / len(origin_data.columns)) * 100: .2f}%的数据名(列名)被判别为与prc中的数据名(列名)无任何相关性:')\n",
    "    print('        ', unrelated_list, '\\n')\n",
    "    if in_list:\n",
    "        print('---------------------------------------------------------------------------------------')\n",
    "        print('若数据源的数据名在prc中有对应值，进行数据值评价，结果如下：')\n",
    "        data_to_db_check(origin_data, s_t, in_list)"
   ]
  },
  {
   "cell_type": "code",
   "execution_count": 5,
   "metadata": {},
   "outputs": [],
   "source": [
    "check_a = pd.read_excel('/Users/har/Desktop/安徽电信2018数据/a中国电信--检验结果统计2018.10.31.xls')\n",
    "check_b = pd.read_excel('/Users/har/Desktop/安徽电信2018数据/b中国电信安徽分公司---2018.10.31.xls', sheet_name=1)\n",
    "check_sum = pd.read_excel('/Users/har/Desktop/安徽电信2018数据/sum中国电信安徽分公司--总检结论统计2018.10.31.xls')\n",
    "merged  = pd.read_excel('/Users/har/Desktop/merged.xls')"
   ]
  },
  {
   "cell_type": "markdown",
   "metadata": {},
   "source": [
    "## 中国电信--检验结果统计2018.10.31"
   ]
  },
  {
   "cell_type": "code",
   "execution_count": 6,
   "metadata": {},
   "outputs": [
    {
     "name": "stdout",
     "output_type": "stream",
     "text": [
      "该数据源有 96 列类型为 float64 的数据\n",
      "\n",
      "该数据源有 10 列类型为 int64 的数据\n",
      "\n",
      "该数据源有 11 列类型为 object 的数据\n",
      "\n",
      "该数据源中 ['体检医院', '单位名称', '姓名', '性别', '蛋白质', '葡萄糖1', '红细胞', '白细胞', '管型', '隐血', '甲状腺过氧化酶抗体'] 列的数据为object类型, 其中以下列的数据为混合类型，详情如下: \n",
      "\n",
      "    蛋白质 列共2种类型的数据,具体为：{\"<class 'str'>\": 189, \"<class 'float'>\": 3}\n",
      "    葡萄糖1 列共2种类型的数据,具体为：{\"<class 'str'>\": 189, \"<class 'float'>\": 3}\n",
      "    红细胞 列共2种类型的数据,具体为：{\"<class 'str'>\": 189, \"<class 'float'>\": 3}\n",
      "    白细胞 列共2种类型的数据,具体为：{\"<class 'str'>\": 189, \"<class 'float'>\": 3}\n",
      "    管型 列共2种类型的数据,具体为：{\"<class 'str'>\": 188, \"<class 'float'>\": 4}\n",
      "    隐血 列共2种类型的数据,具体为：{\"<class 'str'>\": 189, \"<class 'float'>\": 3}\n",
      "    甲状腺过氧化酶抗体 列共2种类型的数据,具体为：{\"<class 'float'>\": 190, \"<class 'str'>\": 2}\n"
     ]
    },
    {
     "name": "stderr",
     "output_type": "stream",
     "text": [
      "Building prefix dict from the default dictionary ...\n",
      "Loading model from cache /var/folders/zn/5yc2lyxn6r5df135z976_cs80000gn/T/jieba.cache\n"
     ]
    },
    {
     "name": "stdout",
     "output_type": "stream",
     "text": [
      "\n",
      "数值类型的汇总已经输出到文件origin_data_evaluation_res.xls\n",
      "\n",
      "初步估计，该数据源的数据规整度为：0.940 \n",
      "\n",
      "\n",
      "---------------------------------------------------------------------------------------\n",
      "数据名标准化评价: \n"
     ]
    },
    {
     "name": "stderr",
     "output_type": "stream",
     "text": [
      "Loading model cost 1.080 seconds.\n",
      "Prefix dict has been built succesfully.\n"
     ]
    },
    {
     "name": "stdout",
     "output_type": "stream",
     "text": [
      "    源数据中约有 35.04%的数据名(列名)在prc中存在:\n",
      "         ['血红蛋白', '红细胞计数', '白细胞计数', '血小板计数', '尿酸', '尿素', '肌酐', '总蛋白', '白蛋白', '球蛋白', '总胆红素', '间接胆红素', '直接胆红素', '癌胚抗原', '前列腺特异性抗原', '总胆固醇', '甘油三酯', '极低密度脂蛋白胆固醇', '红细胞', '白细胞', '管型', '人绒毛膜促性腺激素', '糖类抗原125', '糖类抗原15-3', '神经元特异性烯醇化酶', '糖类抗原19-9', '铁蛋白', '同型半胱氨酸', '糖类抗原50', '非小细胞肺癌相关抗原', '抗甲状腺球蛋白抗体', '甲状腺素', '促甲状腺激素', '游离甲状腺素', '乳酸脱氢酶', '前白蛋白', '碱性磷酸酶', '总胆汁酸', '类风湿因子', '抗核抗体', '尿微量白蛋白'] \n",
      "\n",
      "    源数据中约有 59.83%的数据名(列名)与prc中的数据名(列名)相似:\n",
      "         ['体检号', '体检医院', '检查日期', '年龄', '白/球比例', '谷丙转氨酶', '谷草转氨酶', '甲胎蛋白', '葡萄糖', '乙肝表面抗原', '蛋白质', '葡萄糖1', '颜色', '镜检', '隐血', '性状', '隐血1', '糖类抗原1251', '糖链抗原242', '糖类抗原CA-242', '孕酮Ⅱ', '甲胎蛋白1', '前列腺特异性抗原1', '癌胚抗原1', '游离前列腺特异性抗原', '糖类抗原15-31', '甲胎蛋白2', '糖类抗原19-91', '癌胚抗原2', 'FPSA/TPSA', '铁蛋白1', '游离前列腺特异性抗原1', '神经元特异性烯醇化酶1', '胃泌素释放肽前体', '前列腺特异性抗原2', 'β2微球蛋白', 'β绒毛膜促性腺激素', '游离三碘甲状原氨酸', '三碘甲状原氨酸', '甲状腺过氧化酶抗体', '白蛋白1', 'γ-谷氨酰转移酶', '总胆红素1', '总蛋白1', '白/球比例1', '直接胆红素1', '间接胆红素1', '谷草转氨酶1', '球蛋白1', '谷丙转氨酶1', '乙肝前S1抗原', '乙肝表面抗原1', '乙肝表面抗体', '乙肝核心抗体', '梅毒螺旋体抗体', '甲肝抗体IgM', '乙肝e抗体', '乙肝e抗原', '抗丙肝抗体', 'HIV-Ab(I+II)', '糖基化血红蛋白', 'SCC(鳞状细胞癌相关抗原)', 'CY211(非小细胞肺癌相关抗原)', '胃泌素-17', '胃蛋白酶原Ⅰ', '胃蛋白酶原Ⅱ', '高尔基体蛋白73', '抗\"O\"', '（超敏）C-反应蛋白', '胱抑素C'] \n",
      "\n",
      "    源数据中约有 5.13%的数据名(列名)被判别为与prc中的数据名(列名)无任何相关性:\n",
      "         ['保健号', '单位名称', '姓名', '电话号码', '性别', '生长激素'] \n",
      "\n",
      "---------------------------------------------------------------------------------------\n",
      "若数据源的数据名在prc中有对应值，进行数据值评价，结果如下：\n",
      "\n",
      " 铁蛋白 列: could not convert string to float: '≥0'!\n",
      "\n",
      "以下列的数据均为合法数据:\n",
      "{'血红蛋白': '可能单位为:g/L', '红细胞计数': '可能单位为:10^12/L', '白细胞计数': '可能单位为:10^9/L', '血小板计数': '可能单位为:10^9/L', '尿素': '可能单位为:mg/dL', '总蛋白': '可能单位为:g/L', '白蛋白': '可能单位为:g/L', '球蛋白': '可能单位为:g/L', '总胆红素': '可能单位为:mg/dL', '间接胆红素': '可能单位为:mg/dL', '直接胆红素': '可能单位为:mg/dL', '癌胚抗原': '可能单位为:ng/mL', '前列腺特异性抗原': '可能单位为:ng/mL', '总胆固醇': '可能单位为:mg/dL', '甘油三酯': '可能单位为:mg/dL', '人绒毛膜促性腺激素': '可能单位为:mIU/mL', '糖类抗原125': '可能单位为:IU/mL', '糖类抗原15-3': '可能单位为:IU/mL', '神经元特异性烯醇化酶': '可能单位为:ng/mL', '糖类抗原19-9': '可能单位为:kIU/L', '同型半胱氨酸': '可能单位为:ug/dL', '糖类抗原50': '可能单位为:IU/mL', '抗甲状腺球蛋白抗体': '可能单位为:IU/mL', '甲状腺素': '可能单位为:nmol/L', '促甲状腺激素': '可能单位为:uIU/mL', '游离甲状腺素': '可能单位为:pmol/L', '乳酸脱氢酶': '可能单位为:IU/L', '前白蛋白': '可能单位为:mg/dL', '碱性磷酸酶': '可能单位为:IU/L', '总胆汁酸': '可能单位为:umol/L', '类风湿因子': '可能单位为:IU/mL', '尿微量白蛋白': '可能单位为:mg/L'}\n",
      "---------------------------------------------------------------------------------------\n"
     ]
    }
   ],
   "source": [
    "evaluation_origin_data(check_a, output_='/Users/har/Desktop/安徽电信2018数据/源数据初步评价/中国电信--检验结果统计.xls')\n",
    "evaluation_origin_columns_name(check_a)"
   ]
  },
  {
   "cell_type": "markdown",
   "metadata": {},
   "source": [
    "## 中国电信安徽分公司---2018.10.31"
   ]
  },
  {
   "cell_type": "code",
   "execution_count": 7,
   "metadata": {},
   "outputs": [
    {
     "name": "stdout",
     "output_type": "stream",
     "text": [
      "该数据源有 40 列类型为 float64 的数据\n",
      "\n",
      "该数据源有 3 列类型为 int64 的数据\n",
      "\n",
      "该数据源有 27 列类型为 object 的数据\n",
      "\n",
      "该数据源中 ['体检医院', '单位名称', '姓名', '性别', '血压', '内科结论', '外科结论', '眼科结论', '耳鼻喉科结论', '口腔科结论', '妇科结论', '妇科TCT', '肺部CT', '肺部CT检查所见', '心电图结论', '双侧乳腺彩超', '双侧乳腺彩超检查所见', '颈动脉彩超', '颈动脉彩超检查所见', '甲状腺彩超', '甲状腺彩超所见', '心脏彩超', '心脏彩超所见', '颈椎MRI', '颈椎MRI所见', '头颅MRI', '头颅MRI所见'] 列的数据为object类型, 其中以下列的数据为混合类型，详情如下: \n",
      "\n",
      "    血压 列共2种类型的数据,具体为：{\"<class 'str'>\": 189, \"<class 'float'>\": 3}\n",
      "    妇科结论 列共2种类型的数据,具体为：{\"<class 'float'>\": 149, \"<class 'str'>\": 43}\n",
      "    妇科TCT 列共2种类型的数据,具体为：{\"<class 'float'>\": 149, \"<class 'str'>\": 43}\n",
      "    肺部CT 列共2种类型的数据,具体为：{\"<class 'str'>\": 186, \"<class 'float'>\": 6}\n",
      "    肺部CT检查所见 列共2种类型的数据,具体为：{\"<class 'str'>\": 186, \"<class 'float'>\": 6}\n",
      "    心电图结论 列共2种类型的数据,具体为：{\"<class 'str'>\": 190, \"<class 'float'>\": 2}\n",
      "    双侧乳腺彩超 列共2种类型的数据,具体为：{\"<class 'float'>\": 191, \"<class 'str'>\": 1}\n",
      "    双侧乳腺彩超检查所见 列共2种类型的数据,具体为：{\"<class 'float'>\": 191, \"<class 'str'>\": 1}\n",
      "    颈动脉彩超 列共2种类型的数据,具体为：{\"<class 'float'>\": 141, \"<class 'str'>\": 51}\n",
      "    颈动脉彩超检查所见 列共2种类型的数据,具体为：{\"<class 'float'>\": 141, \"<class 'str'>\": 51}\n",
      "    甲状腺彩超 列共2种类型的数据,具体为：{\"<class 'str'>\": 191, \"<class 'float'>\": 1}\n",
      "    甲状腺彩超所见 列共2种类型的数据,具体为：{\"<class 'str'>\": 191, \"<class 'float'>\": 1}\n",
      "    心脏彩超 列共2种类型的数据,具体为：{\"<class 'float'>\": 141, \"<class 'str'>\": 51}\n",
      "    心脏彩超所见 列共2种类型的数据,具体为：{\"<class 'float'>\": 141, \"<class 'str'>\": 51}\n",
      "    颈椎MRI 列共2种类型的数据,具体为：{\"<class 'float'>\": 188, \"<class 'str'>\": 4}\n",
      "    颈椎MRI所见 列共2种类型的数据,具体为：{\"<class 'float'>\": 188, \"<class 'str'>\": 4}\n",
      "    头颅MRI 列共2种类型的数据,具体为：{\"<class 'float'>\": 186, \"<class 'str'>\": 6}\n",
      "    头颅MRI所见 列共2种类型的数据,具体为：{\"<class 'float'>\": 186, \"<class 'str'>\": 6}\n",
      "\n",
      "数值类型的汇总已经输出到文件origin_data_evaluation_res.xls\n",
      "\n",
      "初步估计，该数据源的数据规整度为：0.743 \n",
      "\n",
      "\n",
      "---------------------------------------------------------------------------------------\n",
      "数据名标准化评价: \n",
      "    源数据中约有 5.71%的数据名(列名)在prc中存在:\n",
      "         ['体重', '身高', '血压', '颈椎MRI'] \n",
      "\n",
      "    源数据中约有 84.29%的数据名(列名)与prc中的数据名(列名)相似:\n",
      "         ['体检号', '体检医院', '检查日期', '年龄', '体重指数', '内科结论', '外科结论', '左裸眼视力', '左矫正视力', '右祼眼视力', '右矫正视力', '眼科结论', '耳鼻喉科结论', '妇科结论', '妇科TCT', 'C14呼气检测结果', 'C13呼气检测结果', '胸片检查所见', '肺部CT', '肺部CT检查所见', '心室率', '心房率', 'P-R间期', '心电图结论', '膀胱B超', '膀胱B超检查所见', '输尿管膀胱B超', '输尿管膀胱B超检查所见', '肝胆胰脾肾B超', '肝胆胰脾肾B超检查所见', '子宫附件B超', '子宫附件B超检查所见', '前列腺B超', '前列腺B超检查所见', '盆腔B超', '盆腔B超检查所见', '椎动脉彩超', '椎动脉彩超检查所见', '双侧乳腺彩超', '双侧乳腺彩超检查所见', '颈动脉彩超', '颈动脉彩超检查所见', '甲状腺彩超', '甲状腺彩超所见', '心脏彩超', '心脏彩超所见', '单侧关节MRI', '单侧关节MRI所见', '腹部MRI', '腹部MRI所见 ', '颈椎MRI所见', '乳腺MRI', '乳腺MRI所见', '头颅MRI', '头颅MRI所见', '头颅MRI加增强', '头颅MRI加增强所见', '头颅血管MRI', '头颅血管MRI所见'] \n",
      "\n",
      "    源数据中约有 10.00%的数据名(列名)被判别为与prc中的数据名(列名)无任何相关性:\n",
      "         ['单位名称', '姓名', '电话号码', '性别', '口腔科结论', '胸片', 'QRS时限'] \n",
      "\n",
      "---------------------------------------------------------------------------------------\n",
      "若数据源的数据名在prc中有对应值，进行数据值评价，结果如下：\n",
      "血压 列的值可能不合法，允许值为：{'mmHg': '≥0'}\n",
      "以下列的数据均为合法数据:\n",
      "{'体重': '可能单位为:kg', '身高': '可能单位为:cm'}\n",
      "---------------------------------------------------------------------------------------\n"
     ]
    }
   ],
   "source": [
    "evaluation_origin_data(check_b, output_='/Users/har/Desktop/安徽电信2018数据/源数据初步评价/中国电信安徽分公司.xls')\n",
    "evaluation_origin_columns_name(check_b)"
   ]
  },
  {
   "cell_type": "markdown",
   "metadata": {},
   "source": [
    "## 中国电信安徽分公司--总检结论统计2018.10.31"
   ]
  },
  {
   "cell_type": "code",
   "execution_count": 8,
   "metadata": {},
   "outputs": [
    {
     "name": "stdout",
     "output_type": "stream",
     "text": [
      "该数据源有 1 列类型为 float64 的数据\n",
      "\n",
      "该数据源有 2 列类型为 int64 的数据\n",
      "\n",
      "该数据源有 5 列类型为 object 的数据\n",
      "\n",
      "该数据源中 ['姓名', '部门名称', '性别', '综述', '单位名称'] 列的数据为object类型, 其中以下列的数据为混合类型，详情如下: \n",
      "\n",
      "    部门名称 列共2种类型的数据,具体为：{\"<class 'float'>\": 29, \"<class 'str'>\": 163}\n",
      "\n",
      "数值类型的汇总已经输出到文件origin_data_evaluation_res.xls\n",
      "\n",
      "初步估计，该数据源的数据规整度为：0.875 \n",
      "\n",
      "\n",
      "---------------------------------------------------------------------------------------\n",
      "数据名标准化评价: \n",
      "    源数据中约有 0.00%的数据名(列名)在prc中存在:\n",
      "         [] \n",
      "\n",
      "    源数据中约有 25.00%的数据名(列名)与prc中的数据名(列名)相似:\n",
      "         ['体检编号', '年龄'] \n",
      "\n",
      "    源数据中约有 75.00%的数据名(列名)被判别为与prc中的数据名(列名)无任何相关性:\n",
      "         ['姓名', '电话号码', '部门名称', '性别', '综述', '单位名称'] \n",
      "\n"
     ]
    }
   ],
   "source": [
    "evaluation_origin_data(check_sum, output_='/Users/har/Desktop/安徽电信2018数据/源数据初步评价/中国电信安徽分公司--总检结论统计.xls')\n",
    "evaluation_origin_columns_name(check_sum)"
   ]
  },
  {
   "cell_type": "markdown",
   "metadata": {},
   "source": [
    "## join后的表格"
   ]
  },
  {
   "cell_type": "code",
   "execution_count": 9,
   "metadata": {},
   "outputs": [
    {
     "name": "stdout",
     "output_type": "stream",
     "text": [
      "该数据源有 133 列类型为 float64 的数据\n",
      "\n",
      "该数据源有 12 列类型为 int64 的数据\n",
      "\n",
      "该数据源有 38 列类型为 object 的数据\n",
      "\n",
      "该数据源中 ['体检医院', '单位名称', '姓名', '性别', '蛋白质', '葡萄糖1', '红细胞', '白细胞', '管型', '隐血', '甲状腺过氧化酶抗体', '血压', '内科结论', '外科结论', '眼科结论', '耳鼻喉科结论', '口腔科结论', '妇科结论', '妇科TCT', '肺部CT', '肺部CT检查所见', '心电图结论', '双侧乳腺彩超', '双侧乳腺彩超检查所见', '颈动脉彩超', '颈动脉彩超检查所见', '甲状腺彩超', '甲状腺彩超所见', '心脏彩超', '心脏彩超所见', '颈椎MRI', '颈椎MRI所见', '头颅MRI', '头颅MRI所见', 'a_b_merge', '部门名称', '综述', 'ab_sum_merge'] 列的数据为object类型, 其中以下列的数据为混合类型，详情如下: \n",
      "\n",
      "    蛋白质 列共2种类型的数据,具体为：{\"<class 'str'>\": 187, \"<class 'float'>\": 3}\n",
      "    葡萄糖1 列共2种类型的数据,具体为：{\"<class 'str'>\": 187, \"<class 'float'>\": 3}\n",
      "    红细胞 列共2种类型的数据,具体为：{\"<class 'str'>\": 187, \"<class 'float'>\": 3}\n",
      "    白细胞 列共2种类型的数据,具体为：{\"<class 'str'>\": 187, \"<class 'float'>\": 3}\n",
      "    管型 列共2种类型的数据,具体为：{\"<class 'str'>\": 186, \"<class 'float'>\": 4}\n",
      "    隐血 列共2种类型的数据,具体为：{\"<class 'str'>\": 187, \"<class 'float'>\": 3}\n",
      "    甲状腺过氧化酶抗体 列共2种类型的数据,具体为：{\"<class 'float'>\": 188, \"<class 'str'>\": 2}\n",
      "    血压 列共2种类型的数据,具体为：{\"<class 'str'>\": 187, \"<class 'float'>\": 3}\n",
      "    妇科结论 列共2种类型的数据,具体为：{\"<class 'float'>\": 147, \"<class 'str'>\": 43}\n",
      "    妇科TCT 列共2种类型的数据,具体为：{\"<class 'float'>\": 147, \"<class 'str'>\": 43}\n",
      "    肺部CT 列共2种类型的数据,具体为：{\"<class 'str'>\": 184, \"<class 'float'>\": 6}\n",
      "    肺部CT检查所见 列共2种类型的数据,具体为：{\"<class 'str'>\": 184, \"<class 'float'>\": 6}\n",
      "    心电图结论 列共2种类型的数据,具体为：{\"<class 'str'>\": 188, \"<class 'float'>\": 2}\n",
      "    双侧乳腺彩超 列共2种类型的数据,具体为：{\"<class 'float'>\": 189, \"<class 'str'>\": 1}\n",
      "    双侧乳腺彩超检查所见 列共2种类型的数据,具体为：{\"<class 'float'>\": 189, \"<class 'str'>\": 1}\n",
      "    颈动脉彩超 列共2种类型的数据,具体为：{\"<class 'float'>\": 140, \"<class 'str'>\": 50}\n",
      "    颈动脉彩超检查所见 列共2种类型的数据,具体为：{\"<class 'float'>\": 140, \"<class 'str'>\": 50}\n",
      "    甲状腺彩超 列共2种类型的数据,具体为：{\"<class 'str'>\": 189, \"<class 'float'>\": 1}\n",
      "    甲状腺彩超所见 列共2种类型的数据,具体为：{\"<class 'str'>\": 189, \"<class 'float'>\": 1}\n",
      "    心脏彩超 列共2种类型的数据,具体为：{\"<class 'float'>\": 140, \"<class 'str'>\": 50}\n",
      "    心脏彩超所见 列共2种类型的数据,具体为：{\"<class 'float'>\": 140, \"<class 'str'>\": 50}\n",
      "    颈椎MRI 列共2种类型的数据,具体为：{\"<class 'float'>\": 186, \"<class 'str'>\": 4}\n",
      "    颈椎MRI所见 列共2种类型的数据,具体为：{\"<class 'float'>\": 186, \"<class 'str'>\": 4}\n",
      "    头颅MRI 列共2种类型的数据,具体为：{\"<class 'float'>\": 184, \"<class 'str'>\": 6}\n",
      "    头颅MRI所见 列共2种类型的数据,具体为：{\"<class 'float'>\": 184, \"<class 'str'>\": 6}\n",
      "    部门名称 列共2种类型的数据,具体为：{\"<class 'str'>\": 162, \"<class 'float'>\": 28}\n",
      "\n",
      "数值类型的汇总已经输出到文件origin_data_evaluation_res.xls\n",
      "\n",
      "初步估计，该数据源的数据规整度为：0.858 \n",
      "\n",
      "\n",
      "---------------------------------------------------------------------------------------\n",
      "数据名标准化评价: \n",
      "    源数据中约有 24.59%的数据名(列名)在prc中存在:\n",
      "         ['血红蛋白', '红细胞计数', '白细胞计数', '血小板计数', '尿酸', '尿素', '肌酐', '总蛋白', '白蛋白', '球蛋白', '总胆红素', '间接胆红素', '直接胆红素', '癌胚抗原', '前列腺特异性抗原', '总胆固醇', '甘油三酯', '极低密度脂蛋白胆固醇', '红细胞', '白细胞', '管型', '人绒毛膜促性腺激素', '糖类抗原125', '糖类抗原15-3', '神经元特异性烯醇化酶', '糖类抗原19-9', '铁蛋白', '同型半胱氨酸', '糖类抗原50', '非小细胞肺癌相关抗原', '抗甲状腺球蛋白抗体', '甲状腺素', '促甲状腺激素', '游离甲状腺素', '乳酸脱氢酶', '前白蛋白', '碱性磷酸酶', '总胆汁酸', '类风湿因子', '抗核抗体', '尿微量白蛋白', '体重', '身高', '血压', '颈椎MRI'] \n",
      "\n",
      "    源数据中约有 69.40%的数据名(列名)与prc中的数据名(列名)相似:\n",
      "         ['体检号', '体检医院', '检查日期', '年龄', '白/球比例', '谷丙转氨酶', '谷草转氨酶', '甲胎蛋白', '葡萄糖', '乙肝表面抗原', '蛋白质', '葡萄糖1', '颜色', '镜检', '隐血', '性状', '隐血1', '糖类抗原1251', '糖链抗原242', '糖类抗原CA-242', '孕酮Ⅱ', '甲胎蛋白1', '前列腺特异性抗原1', '癌胚抗原1', '游离前列腺特异性抗原', '糖类抗原15-31', '甲胎蛋白2', '糖类抗原19-91', '癌胚抗原2', 'FPSA/TPSA', '铁蛋白1', '游离前列腺特异性抗原1', '神经元特异性烯醇化酶1', '胃泌素释放肽前体', '前列腺特异性抗原2', 'β2微球蛋白', 'β绒毛膜促性腺激素', '游离三碘甲状原氨酸', '三碘甲状原氨酸', '甲状腺过氧化酶抗体', '白蛋白1', 'γ-谷氨酰转移酶', '总胆红素1', '总蛋白1', '白/球比例1', '直接胆红素1', '间接胆红素1', '谷草转氨酶1', '球蛋白1', '谷丙转氨酶1', '乙肝前S1抗原', '乙肝表面抗原1', '乙肝表面抗体', '乙肝核心抗体', '梅毒螺旋体抗体', '甲肝抗体IgM', '乙肝e抗体', '乙肝e抗原', '抗丙肝抗体', 'HIV-Ab(I+II)', '糖基化血红蛋白', 'SCC(鳞状细胞癌相关抗原)', 'CY211(非小细胞肺癌相关抗原)', '胃泌素-17', '胃蛋白酶原Ⅰ', '胃蛋白酶原Ⅱ', '高尔基体蛋白73', '抗\"O\"', '（超敏）C-反应蛋白', '胱抑素C', '体重指数', '内科结论', '外科结论', '左裸眼视力', '左矫正视力', '右祼眼视力', '右矫正视力', '眼科结论', '耳鼻喉科结论', '妇科结论', '妇科TCT', 'C14呼气检测结果', 'C13呼气检测结果', '胸片检查所见', '肺部CT', '肺部CT检查所见', '心室率', '心房率', 'P-R间期', '心电图结论', '膀胱B超', '膀胱B超检查所见', '输尿管膀胱B超', '输尿管膀胱B超检查所见', '肝胆胰脾肾B超', '肝胆胰脾肾B超检查所见', '子宫附件B超', '子宫附件B超检查所见', '前列腺B超', '前列腺B超检查所见', '盆腔B超', '盆腔B超检查所见', '椎动脉彩超', '椎动脉彩超检查所见', '双侧乳腺彩超', '双侧乳腺彩超检查所见', '颈动脉彩超', '颈动脉彩超检查所见', '甲状腺彩超', '甲状腺彩超所见', '心脏彩超', '心脏彩超所见', '单侧关节MRI', '单侧关节MRI所见', '腹部MRI', '腹部MRI所见 ', '颈椎MRI所见', '乳腺MRI', '乳腺MRI所见', '头颅MRI', '头颅MRI所见', '头颅MRI加增强', '头颅MRI加增强所见', '头颅血管MRI', '头颅血管MRI所见', 'a_b_merge', 'ab_sum_merge'] \n",
      "\n",
      "    源数据中约有 6.01%的数据名(列名)被判别为与prc中的数据名(列名)无任何相关性:\n",
      "         ['保健号', '单位名称', '姓名', '电话号码', '性别', '生长激素', '口腔科结论', '胸片', 'QRS时限', '部门名称', '综述'] \n",
      "\n",
      "---------------------------------------------------------------------------------------\n",
      "若数据源的数据名在prc中有对应值，进行数据值评价，结果如下：\n",
      "\n",
      " 铁蛋白 列: could not convert string to float: '≥0'!\n",
      "\n",
      "血压 列的值可能不合法，允许值为：{'mmHg': '≥0'}\n",
      "以下列的数据均为合法数据:\n",
      "{'血红蛋白': '可能单位为:g/L', '红细胞计数': '可能单位为:10^12/L', '白细胞计数': '可能单位为:10^9/L', '血小板计数': '可能单位为:10^9/L', '尿素': '可能单位为:mg/dL', '总蛋白': '可能单位为:g/L', '白蛋白': '可能单位为:g/L', '球蛋白': '可能单位为:g/L', '总胆红素': '可能单位为:mg/dL', '间接胆红素': '可能单位为:mg/dL', '直接胆红素': '可能单位为:mg/dL', '癌胚抗原': '可能单位为:ng/mL', '前列腺特异性抗原': '可能单位为:ng/mL', '总胆固醇': '可能单位为:mg/dL', '甘油三酯': '可能单位为:mg/dL', '人绒毛膜促性腺激素': '可能单位为:mIU/mL', '糖类抗原125': '可能单位为:IU/mL', '糖类抗原15-3': '可能单位为:IU/mL', '神经元特异性烯醇化酶': '可能单位为:ng/mL', '糖类抗原19-9': '可能单位为:kIU/L', '同型半胱氨酸': '可能单位为:ug/dL', '糖类抗原50': '可能单位为:IU/mL', '抗甲状腺球蛋白抗体': '可能单位为:IU/mL', '甲状腺素': '可能单位为:nmol/L', '促甲状腺激素': '可能单位为:uIU/mL', '游离甲状腺素': '可能单位为:pmol/L', '乳酸脱氢酶': '可能单位为:IU/L', '前白蛋白': '可能单位为:mg/dL', '碱性磷酸酶': '可能单位为:IU/L', '总胆汁酸': '可能单位为:umol/L', '类风湿因子': '可能单位为:IU/mL', '尿微量白蛋白': '可能单位为:mg/L', '体重': '可能单位为:kg', '身高': '可能单位为:cm'}\n",
      "---------------------------------------------------------------------------------------\n"
     ]
    }
   ],
   "source": [
    "evaluation_origin_data(merged, output_='/Users/har/Desktop/安徽电信2018数据/源数据初步评价/join后的表格.xls')\n",
    "evaluation_origin_columns_name(merged)"
   ]
  },
  {
   "cell_type": "code",
   "execution_count": null,
   "metadata": {},
   "outputs": [],
   "source": []
  }
 ],
 "metadata": {
  "kernelspec": {
   "display_name": "data_analysis",
   "language": "python",
   "name": "data_analysis"
  },
  "language_info": {
   "codemirror_mode": {
    "name": "ipython",
    "version": 3
   },
   "file_extension": ".py",
   "mimetype": "text/x-python",
   "name": "python",
   "nbconvert_exporter": "python",
   "pygments_lexer": "ipython3",
   "version": "3.7.1"
  }
 },
 "nbformat": 4,
 "nbformat_minor": 2
}
